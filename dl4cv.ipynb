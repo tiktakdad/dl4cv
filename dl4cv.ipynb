{
 "cells": [
  {
   "cell_type": "markdown",
   "source": [
    "AI Jump-up 교육은 실습위주 교육이라고 들어서 실습을 중간중간 실습할 수 있도록\n",
    "강의를 준비하게 되었고, 그래서 발표자료와 실습을 왔다갔다하는 문제를 방지하기 위해\n",
    "MD로 자료를 만들게 되었습니다."
   ],
   "metadata": {
    "collapsed": false,
    "pycharm": {
     "name": "#%% md\n"
    }
   }
  },
  {
   "cell_type": "markdown",
   "metadata": {
    "id": "SEuxdJJYb6qa",
    "pycharm": {
     "name": "#%% md\n"
    }
   },
   "source": [
    "# Deep Learning for Computer Vision\n",
    "***\n",
    "\n",
    "## Plan for this lecture\n",
    "1. ~~Deep Learning for~~ **Computer Vision**\n",
    "2. **Deep Learning** ~~for Computer Vision~~\n",
    "3. **Deep Learning for Computer Vision**\n",
    "\n",
    "***"
   ]
  },
  {
   "cell_type": "code",
   "execution_count": 2,
   "outputs": [
    {
     "name": "stdout",
     "output_type": "stream",
     "text": [
      "Files already downloaded and verified\n",
      "Files already downloaded and verified\n",
      "ready.\n"
     ]
    }
   ],
   "source": [
    "import torch\n",
    "import torchvision\n",
    "import torchvision.transforms as transforms\n",
    "import torch.nn as nn\n",
    "import pandas as pd\n",
    "import seaborn as sns\n",
    "import torch.optim as optim\n",
    "import argparse\n",
    "import numpy as np\n",
    "import time\n",
    "from copy import deepcopy # Add Deepcopy for args\n",
    "import matplotlib.pyplot as plt\n",
    "from IPython.display import HTML\n",
    "\n",
    "transform = transforms.Compose(\n",
    "    [transforms.ToTensor(),\n",
    "     transforms.Normalize((0.5, 0.5, 0.5), (0.5, 0.5, 0.5))])\n",
    "\n",
    "trainset = torchvision.datasets.CIFAR10(root='./data', train=True,\n",
    "                                        download=True, transform=transform)\n",
    "trainset, valset = torch.utils.data.random_split(trainset, [40000, 10000])\n",
    "testset = torchvision.datasets.CIFAR10(root='./data', train=False,\n",
    "                                       download=True, transform=transform)\n",
    "partition = {'train': trainset, 'val':valset, 'test':testset}\n",
    "\n",
    "classes = ('plane', 'car', 'bird', 'cat',\n",
    "           'deer', 'dog', 'frog', 'horse', 'ship', 'truck')\n",
    "\n",
    "class Resnet(nn.Module):\n",
    "    def __init__(self):\n",
    "        super(Resnet, self).__init__()\n",
    "\n",
    "class CNN(nn.Module):\n",
    "    def __init__(self):\n",
    "        super(CNN, self).__init__()\n",
    "\n",
    "def plot_loss_variation(result, **kwargs):\n",
    "\n",
    "    '''\n",
    "    result['train_losses'] = train_losses\n",
    "    result['val_losses'] = val_losses\n",
    "    result['train_accs'] = train_accs\n",
    "    result['val_accs'] = val_accs\n",
    "    result['train_acc'] = train_acc\n",
    "    result['val_acc'] = val_acc\n",
    "    result['test_acc'] = test_acc\n",
    "    '''\n",
    "    list_data = []\n",
    "    for epoch, train_loss in enumerate(result['train_losses']):\n",
    "        list_data.append({'type': 'train', 'loss': train_loss, 'epoch': epoch})\n",
    "    for epoch, val_loss in enumerate(result['val_losses']):\n",
    "        list_data.append({'type': 'val', 'loss': val_loss, 'epoch': epoch})\n",
    "\n",
    "    df = pd.DataFrame(list_data)\n",
    "    g = sns.FacetGrid(df, hue='type', **kwargs)\n",
    "    g = g.map(plt.plot, 'epoch', 'loss', marker='.')\n",
    "    g.add_legend()\n",
    "    g.fig.suptitle('Train loss vs Val loss')\n",
    "    plt.subplots_adjust(top=0.89)\n",
    "\n",
    "\n",
    "def plot_acc_variation(result, **kwargs):\n",
    "    list_data = []\n",
    "    for epoch, train_acc in enumerate(result['train_accs']):\n",
    "        list_data.append({'type': 'train', 'Acc': train_acc, 'test_acc': result['test_acc'], 'epoch': epoch})\n",
    "    for epoch, val_acc in enumerate(result['val_accs']):\n",
    "        list_data.append({'type': 'val', 'Acc': val_acc, 'test_acc': result['test_acc'], 'epoch': epoch})\n",
    "\n",
    "\n",
    "    df = pd.DataFrame(list_data)\n",
    "    g = sns.FacetGrid(df, hue='type', **kwargs)\n",
    "    g = g.map(plt.plot, 'epoch', 'Acc', marker='.')\n",
    "\n",
    "    def show_acc(x, y, metric, **kwargs):\n",
    "        plt.scatter(x, y, alpha=0.3, s=1)\n",
    "        metric = \"Test Acc: {:1.3f}\".format(list(metric.values)[0])\n",
    "        plt.text(0.05, 0.95, metric, horizontalalignment='left', verticalalignment='center',\n",
    "                 transform=plt.gca().transAxes, bbox=dict(facecolor='yellow', alpha=0.5, boxstyle=\"round,pad=0.1\"))\n",
    "\n",
    "    g = g.map(show_acc, 'epoch', 'Acc', 'test_acc')\n",
    "\n",
    "    g.add_legend()\n",
    "    g.fig.suptitle('Train Accuracy vs Val Accuracy')\n",
    "    plt.subplots_adjust(top=0.89)\n",
    "\n",
    "def train(net, partition, optimizer, criterion, args):\n",
    "    trainloader = torch.utils.data.DataLoader(partition['train'],\n",
    "                                              batch_size=args.train_batch_size,\n",
    "                                              shuffle=True, num_workers=0)\n",
    "    net.train()\n",
    "    optimizer.zero_grad()\n",
    "\n",
    "    correct = 0\n",
    "    total = 0\n",
    "    train_loss = 0.0\n",
    "    for i, data in enumerate(trainloader, 0):\n",
    "        # get the inputs\n",
    "        inputs, labels = data\n",
    "        inputs = inputs.cuda()\n",
    "        labels = labels.cuda()\n",
    "        outputs = net(inputs)\n",
    "\n",
    "        loss = criterion(outputs, labels)\n",
    "        loss.backward()\n",
    "        optimizer.step()\n",
    "\n",
    "        train_loss += loss.item()\n",
    "        _, predicted = torch.max(outputs.data, 1)\n",
    "        total += labels.size(0)\n",
    "        correct += (predicted == labels).sum().item()\n",
    "\n",
    "    train_loss = train_loss / len(trainloader)\n",
    "    train_acc = 100 * correct / total\n",
    "    return net, train_loss, train_acc\n",
    "\n",
    "\n",
    "def validate(net, partition, criterion, args):\n",
    "    valloader = torch.utils.data.DataLoader(partition['val'],\n",
    "                                            batch_size=args.test_batch_size,\n",
    "                                            shuffle=False, num_workers=0)\n",
    "    net.eval()\n",
    "\n",
    "    correct = 0\n",
    "    total = 0\n",
    "    val_loss = 0\n",
    "    with torch.no_grad():\n",
    "        for data in valloader:\n",
    "            images, labels = data\n",
    "            images = images.cuda()\n",
    "            labels = labels.cuda()\n",
    "            outputs = net(images)\n",
    "\n",
    "            loss = criterion(outputs, labels)\n",
    "\n",
    "            val_loss += loss.item()\n",
    "            _, predicted = torch.max(outputs.data, 1)\n",
    "            total += labels.size(0)\n",
    "            correct += (predicted == labels).sum().item()\n",
    "\n",
    "        val_loss = val_loss / len(valloader)\n",
    "        val_acc = 100 * correct / total\n",
    "    return val_loss, val_acc\n",
    "\n",
    "\n",
    "def test(net, partition, args):\n",
    "    testloader = torch.utils.data.DataLoader(partition['test'],\n",
    "                                             batch_size=args.test_batch_size,\n",
    "                                             shuffle=False, num_workers=0)\n",
    "    net.eval()\n",
    "\n",
    "    correct = 0\n",
    "    total = 0\n",
    "    with torch.no_grad():\n",
    "        for data in testloader:\n",
    "            images, labels = data\n",
    "            images = images.cuda()\n",
    "            labels = labels.cuda()\n",
    "\n",
    "            outputs = net(images)\n",
    "            _, predicted = torch.max(outputs.data, 1)\n",
    "            total += labels.size(0)\n",
    "            correct += (predicted == labels).sum().item()\n",
    "\n",
    "        test_acc = 100 * correct / total\n",
    "    return test_acc\n",
    "\n",
    "\n",
    "def experiment(partition, args):\n",
    "    if args.model == 'CNN':\n",
    "        net = CNN()\n",
    "    elif args.model == 'Resnet':\n",
    "        net = Resnet()\n",
    "    else:\n",
    "        raise ValueError('In-valid model choice')\n",
    "    net.cuda()\n",
    "\n",
    "    criterion = nn.CrossEntropyLoss()\n",
    "    if args.optim == 'SGD':\n",
    "        optimizer = optim.SGD(net.parameters(), lr=args.lr, weight_decay=args.l2)\n",
    "    elif args.optim == 'RMSprop':\n",
    "        optimizer = optim.RMSprop(net.parameters(), lr=args.lr, weight_decay=args.l2)\n",
    "    elif args.optim == 'Adam':\n",
    "        optimizer = optim.Adam(net.parameters(), lr=args.lr, weight_decay=args.l2)\n",
    "    else:\n",
    "        raise ValueError('In-valid optimizer choice')\n",
    "\n",
    "    train_losses = []\n",
    "    val_losses = []\n",
    "    train_accs = []\n",
    "    val_accs = []\n",
    "\n",
    "    for epoch in range(args.epoch):  # loop over the dataset multiple times\n",
    "        ts = time.time()\n",
    "        net, train_loss, train_acc = train(net, partition, optimizer, criterion, args)\n",
    "        val_loss, val_acc = validate(net, partition, criterion, args)\n",
    "        te = time.time()\n",
    "\n",
    "        train_losses.append(train_loss)\n",
    "        val_losses.append(val_loss)\n",
    "        train_accs.append(train_acc)\n",
    "        val_accs.append(val_acc)\n",
    "\n",
    "        print(\n",
    "            'Epoch {}, Acc(train/val): {:2.2f}/{:2.2f}, Loss(train/val) {:2.2f}/{:2.2f}. Took {:2.2f} sec'.format(epoch,\n",
    "                                                                                                                  train_acc,\n",
    "                                                                                                                  val_acc,\n",
    "                                                                                                                  train_loss,\n",
    "                                                                                                                  val_loss,\n",
    "                                                                                                                  te - ts))\n",
    "\n",
    "    test_acc = test(net, partition, args)\n",
    "\n",
    "    result = {}\n",
    "    result['train_losses'] = train_losses\n",
    "    result['val_losses'] = val_losses\n",
    "    result['train_accs'] = train_accs\n",
    "    result['val_accs'] = val_accs\n",
    "    result['train_acc'] = train_acc\n",
    "    result['val_acc'] = val_acc\n",
    "    result['test_acc'] = test_acc\n",
    "    return vars(args), result\n",
    "\n",
    "# functions to show an image\n",
    "\n",
    "\n",
    "def imshow(img):\n",
    "    img = img / 2 + 0.5     # unnormalize\n",
    "    npimg = img.numpy()\n",
    "    plt.imshow(np.transpose(npimg, (1, 2, 0)))\n",
    "    plt.show()\n",
    "\n",
    "print('ready.')"
   ],
   "metadata": {
    "collapsed": false,
    "pycharm": {
     "name": "#%%\n"
    }
   }
  },
  {
   "cell_type": "markdown",
   "source": [
    "## 1. ~~Deep Learning for~~ Computer Vision\n",
    "### 1.1  Computer Vision is Everywhere!\n",
    "![pt](https://github.com/karaopea/cnn/blob/master/images/498_FA2019_lecture01.pdf_page_09.jpg?raw=true\n",
    "> 498_FA2019_lecture01\n",
    "***"
   ],
   "metadata": {
    "collapsed": false
   }
  },
  {
   "cell_type": "markdown",
   "source": [
    "## 2. **Deep Learning** ~~for Computer Vision~~\n",
    "### 2.1  Recap:Deep Learning\n",
    "![pt](https://github.com/karaopea/cnn/blob/master/images/498_FA2019_lecture01.pdf_page_09.jpg?raw=true\n",
    "\n",
    "    이번 섹션에서 딥러닝의 핵심적인 내용들을 되짚고 CNN을 진행하겠습니다.\n",
    "***"
   ],
   "metadata": {
    "collapsed": false,
    "pycharm": {
     "name": "#%% md\n"
    }
   }
  },
  {
   "cell_type": "markdown",
   "source": [
    "#### 2.1.1  Real neuron\n",
    "![pt](https://github.com/karaopea/cnn/blob/master/images/pt/Slide2.PNG?raw=true)\n",
    "\n",
    "    이 그림은 모든 Neural Network을 얘기할때 꼭 나오는 뉴런 그림이죠? 지겨운 분들도 있을 것 같습니다.\n",
    "    생물학적 백그라운드를 조금 알고 가면 좋을 것 같아 다시 준비 했습니다.\n",
    "    키워드는,\n",
    "    Dendrite에서 다른 뉴런들의 신호를 받아 Soma에서 상태값을 이용하여 매우 간단한 연산을하고 Axon을 통해\n",
    "    다른 뉴런들에게 전달할지 말지 결정합니다. NN은 이런 인간의 뇌 구조를 모방하여 만들었습니다.\n",
    "    (보신 우리 뇌에는 860억개의 뉴런이 있다고합니다.)\n",
    "***"
   ],
   "metadata": {
    "collapsed": false
   }
  },
  {
   "cell_type": "markdown",
   "source": [
    "#### 2.1.1  Real neuron\n",
    "![pt](https://github.com/karaopea/cnn/blob/master/images/pt/Slide90.PNG?raw=true)\n",
    "\n",
    "    이 뉴런을 단순화해서 표현을 할껀데, 요게 뭡니까? 소죠?\n",
    "    이게 피카소의 작품인데요, 소에서 점점 단순화되다가 결국 이렇게 되버렸죠.\n",
    "    뿔은 무슨 더듬이처럼 됬고, 꼬리가 있네요, 다리도 네개고.\n",
    "    그리고 몸통에.. 수컷이네요 수컷.\n",
    "\n",
    "\n",
    "    자 그러면 뉴런은 어떻게 표현할까냐는건데, 엄청 간단합니다.\n",
    "    소에서 저렇게 특징적인것만 표현했듯이\n",
    "    뉴런도 다른 뉴런들에게서 받아 출력을 내는 그림으로 간단히 표현할 수 있습니다.\n",
    "    이게 여러개 있으면 인공신경망, 뉴럴네트워크다 이렇게 말할 수 있습니다.\n",
    "\n",
    "***"
   ],
   "metadata": {
    "collapsed": false
   }
  },
  {
   "cell_type": "markdown",
   "source": [
    "#### 2.1.2  Artificial neuron\n",
    "![pt](https://github.com/karaopea/cnn/blob/master/images/pt/Slide3.PNG?raw=true)\n",
    "\n",
    "    요 뉴런을 조금 더 자세히 표현하자면 그림과 같습니다.\n",
    "    인공신경망의 뉴런 구조는 상태를 저장할 수 있는 weight ,bias 값을 이용하여\n",
    "    input을 다음 뉴런에게 전달할지 결정하는 구조로 만들어져 있습니다.\n",
    "    오해하지말아야 할 것은 뇌구조와 같게 만들었다는 뜻은 아니며,\n",
    "    신경생리학적 관찰적인 부분을 모델링한 것으로 이해해주심 되겠습니다.\n",
    "***"
   ],
   "metadata": {
    "collapsed": false
   }
  },
  {
   "cell_type": "markdown",
   "source": [
    "#### 2.1.2  Artificial neuron\n",
    "![pt](https://github.com/karaopea/cnn/blob/master/images/pt/Slide4.PNG?raw=true)\n",
    "\n",
    "    위 그래프를 보면서 설명드리자면, 파란,붉은점들은 input이라 볼 수 있으며,\n",
    "    점선으로 표시된 부분의 뉴런의 weight를 표현하고 있습니다.\n",
    "    다양한 점선들은 weight에 따라 input을 어떻게 프로젝션 할 수 있는 지 보여주고 있습니다.\n",
    "\n",
    "    그럼 이제 파란점과 붉은점을 나누는 간단한 인공신경망을 만들어 보겠습니다\n",
    "***\n",
    "    "
   ],
   "metadata": {
    "collapsed": false
   }
  },
  {
   "cell_type": "code",
   "execution_count": 2,
   "outputs": [
    {
     "name": "stdout",
     "output_type": "stream",
     "text": [
      "0 0.8787848949432373\n",
      "1000 0.003038016613572836\n",
      "2000 0.001510934205725789\n",
      "3000 0.0010051975259557366\n",
      "4000 0.0007530620787292719\n",
      "5000 0.0006020592409186065\n",
      "6000 0.0005014445632696152\n",
      "7000 0.00042970303911715746\n",
      "8000 0.00037585594691336155\n",
      "9000 0.0003340268158353865\n",
      "10000 0.00030057679396122694\n"
     ]
    },
    {
     "data": {
      "text/plain": "<Figure size 432x288 with 1 Axes>",
      "image/png": "[encoded data removed]"
     },
     "metadata": {
      "needs_background": "light"
     },
     "output_type": "display_data"
    }
   ],
   "source": [
    "# for reproducibility\n",
    "torch.manual_seed(777)\n",
    "\n",
    "# input\n",
    "X = torch.FloatTensor([[0, 0], [1, 1]])\n",
    "Y = torch.FloatTensor([[0],[1]])\n",
    "\n",
    "# nn layers\n",
    "input_layer = torch.nn.Linear(2, 1, bias=True)\n",
    "sigmoid = torch.nn.Sigmoid()\n",
    "\n",
    "# model\n",
    "model = torch.nn.Sequential(input_layer, sigmoid)\n",
    "\n",
    "# define cost/loss & optimizer\n",
    "criterion = torch.nn.BCELoss()\n",
    "optimizer = torch.optim.SGD(model.parameters(), lr=1)  # modified learning rate from 0.1 to 1\n",
    "\n",
    "for step in range(10001):\n",
    "    optimizer.zero_grad()\n",
    "    hypothesis = model(X)\n",
    "\n",
    "    # cost/loss function\n",
    "    cost = criterion(hypothesis, Y)\n",
    "    cost.backward()\n",
    "    optimizer.step()\n",
    "\n",
    "    if step % 1000 == 0:\n",
    "        print(step, cost.item())\n",
    "\n",
    "# for drawing\n",
    "model_params = list(model.parameters())\n",
    "model_weights = model_params[0].data.numpy()\n",
    "model_bias = model_params[1].data.numpy()\n",
    "\n",
    "plt.scatter(X.numpy()[[0,-1], 0], X.numpy()[[0, -1], 1], s=50)\n",
    "plt.scatter(X.numpy()[[1,-1], 0], X.numpy()[[1, -1], 1], c='red', s=50)\n",
    "\n",
    "x_1 = np.arange(-0.1, 1.1, 0.1)\n",
    "y_1 = ((x_1 * model_weights[0,0]) + model_bias[0]) / (-model_weights[0,1])\n",
    "plt.plot(x_1, y_1)\n",
    "\n",
    "plt.legend([\"neuron_1\"], loc=8)\n",
    "plt.show()"
   ],
   "metadata": {
    "collapsed": false,
    "pycharm": {
     "name": "#%%\n"
    }
   }
  },
  {
   "cell_type": "markdown",
   "source": [
    "#### 2.1.3 Limitations\n",
    "![pt](https://github.com/karaopea/cnn/blob/master/images/pt/Slide6.PNG?raw=true)\n",
    "\n",
    "    이러한 방법론으로 인공신경망이 환대를 받고 있을때, xor problem이라는 심각한 문제가 등장합니다.\n",
    "    선을 아무리 잘 그어도 위와같은 문제는 해결할 수 없었습니다.\n",
    "\n",
    "\n",
    "    코드를 살펴보자면,\n",
    "***"
   ],
   "metadata": {
    "collapsed": false
   }
  },
  {
   "cell_type": "code",
   "execution_count": 3,
   "outputs": [
    {
     "name": "stdout",
     "output_type": "stream",
     "text": [
      "0 0.7273974418640137\n",
      "1000 0.6931471824645996\n",
      "2000 0.6931471824645996\n",
      "3000 0.6931471824645996\n",
      "4000 0.6931471824645996\n",
      "5000 0.6931471824645996\n",
      "6000 0.6931471824645996\n",
      "7000 0.6931471824645996\n",
      "8000 0.6931471824645996\n",
      "9000 0.6931471824645996\n",
      "10000 0.6931471824645996\n"
     ]
    },
    {
     "data": {
      "text/plain": "<Figure size 432x288 with 1 Axes>",
      "image/png": "[encoded data removed]"
     },
     "metadata": {
      "needs_background": "light"
     },
     "output_type": "display_data"
    }
   ],
   "source": [
    "torch.manual_seed(777)\n",
    "\n",
    "X = torch.FloatTensor([[0, 0], [0, 1], [1, 0], [1, 1]])\n",
    "Y = torch.FloatTensor([[0], [1], [1], [0]])\n",
    "\n",
    "input_layer = torch.nn.Linear(2, 1, bias=True)\n",
    "sigmoid = torch.nn.Sigmoid()\n",
    "model = torch.nn.Sequential(input_layer, sigmoid)\n",
    "\n",
    "criterion = torch.nn.BCELoss()\n",
    "optimizer = torch.optim.SGD(model.parameters(), lr=1)  # modified learning rate from 0.1 to 1\n",
    "\n",
    "for step in range(10001):\n",
    "    optimizer.zero_grad()\n",
    "    hypothesis = model(X)\n",
    "\n",
    "    cost = criterion(hypothesis, Y)\n",
    "    cost.backward()\n",
    "    optimizer.step()\n",
    "\n",
    "    if step % 1000 == 0:\n",
    "        print(step, cost.item())\n",
    "\n",
    "model_params = list(model.parameters())\n",
    "model_weights = model_params[0].data.numpy()\n",
    "model_bias = model_params[1].data.numpy()\n",
    "\n",
    "plt.scatter(X.numpy()[[0,-1], 0], X.numpy()[[0, -1], 1], s=50)\n",
    "plt.scatter(X.numpy()[[1,2], 0], X.numpy()[[1, 2], 1], c='red', s=50)\n",
    "\n",
    "x_1 = np.arange(-0.1, 1.1, 0.1)\n",
    "y_1 = ((x_1 * model_weights[0,0]) + model_bias[0]) / (-model_weights[0,1])\n",
    "plt.plot(x_1, y_1)\n",
    "\n",
    "plt.legend([\"neuron_1\"], loc=8)\n",
    "plt.show()"
   ],
   "metadata": {
    "collapsed": false,
    "pycharm": {
     "name": "#%%\n"
    }
   }
  },
  {
   "cell_type": "markdown",
   "source": [
    "#### 2.1.4  First AI Winter\n",
    "![pt](https://github.com/karaopea/cnn/blob/master/images/ai_winter.png?raw=true)\n",
    "\n",
    "    이러한 간단한 문제도 풀지 못한다면서 손가락 질과 함께 첫번째 AI 암흑기로 돌입하게 됩니다.\n",
    "***"
   ],
   "metadata": {
    "collapsed": false
   }
  },
  {
   "cell_type": "markdown",
   "source": [
    "#### 2.1.4 XOR Problem\n",
    "![pt](https://github.com/karaopea/cnn/blob/master/images/xor.png?raw=true)\n",
    "\n",
    "    XOR은 a,b가 서로 다를때 1이고 같을 때 0을 표현하는 함수를 뜻합니다.\n",
    "    보니까 직선 하나로는 분류를 할 수 없겠다고 생각해서, 직선이 더 있으면 될 것 같다는 생각을 하게 됩니다.\n",
    "***"
   ],
   "metadata": {
    "collapsed": false
   }
  },
  {
   "cell_type": "markdown",
   "source": [
    "#### 2.1.5 Solving XOR Problem\n",
    "![pt](https://github.com/karaopea/cnn/blob/master/images/pt/Slide11.PNG?raw=true)\n",
    "\n",
    "    전에는 x1, x2 에서 바로 y로 전달해었는데, 이제는 중간에 뭐가 하나 생겼죠?\n",
    "    이것을 히든레이어(은닉층)이라고 하고 Multi-layer Perceptron이 등장하게 됩니다.\n",
    "    수식이 좀 어지러워 보이는데 하나만 따라가보죠.\n",
    "    우선 앞에가 a, 뒤가 b입니다. 결과만 보자면 같을때는 0, 다를때는 1값이 잘 나오고 있네요.\n",
    "    (맨 아랫줄 하나씩 설명)\n",
    "    그럼 코드로 구현해볼까요?\n",
    "***"
   ],
   "metadata": {
    "collapsed": false
   }
  },
  {
   "cell_type": "code",
   "execution_count": 4,
   "outputs": [
    {
     "name": "stdout",
     "output_type": "stream",
     "text": [
      "0 0.7434073090553284\n",
      "1000 0.6930999755859375\n",
      "2000 0.6838314533233643\n",
      "3000 0.01398373395204544\n",
      "4000 0.005768375005573034\n",
      "5000 0.0036007347516715527\n",
      "6000 0.0026096487417817116\n",
      "7000 0.00204361486248672\n",
      "8000 0.001678097527474165\n",
      "9000 0.0014228165382519364\n",
      "10000 0.0012345188297331333\n"
     ]
    },
    {
     "data": {
      "text/plain": "<Figure size 432x288 with 1 Axes>",
      "image/png": "[encoded data removed]"
     },
     "metadata": {
      "needs_background": "light"
     },
     "output_type": "display_data"
    }
   ],
   "source": [
    "# for reproducibility\n",
    "torch.manual_seed(777)\n",
    "\n",
    "X = torch.FloatTensor([[0, 0], [0, 1], [1, 0], [1, 1]])\n",
    "Y = torch.FloatTensor([[0], [1], [1], [0]])\n",
    "\n",
    "# nn layers\n",
    "input_layer = torch.nn.Linear(2, 2, bias=True)\n",
    "hidden = torch.nn.Linear(2, 1, bias=True)\n",
    "sigmoid = torch.nn.Sigmoid()\n",
    "\n",
    "# model\n",
    "model = torch.nn.Sequential(input_layer, sigmoid, hidden, sigmoid)\n",
    "\n",
    "# define cost/loss & optimizer\n",
    "criterion = torch.nn.BCELoss()\n",
    "optimizer = torch.optim.SGD(model.parameters(), lr=1)  # modified learning rate from 0.1 to 1\n",
    "\n",
    "for step in range(10001):\n",
    "    optimizer.zero_grad()\n",
    "    hypothesis = model(X)\n",
    "\n",
    "    # cost/loss function\n",
    "    cost = criterion(hypothesis, Y)\n",
    "    cost.backward()\n",
    "    optimizer.step()\n",
    "\n",
    "    if step % 1000 == 0:\n",
    "        print(step, cost.item())\n",
    "\n",
    "model_params = list(model.parameters())\n",
    "model_weights = model_params[0].data.numpy()\n",
    "model_bias = model_params[1].data.numpy()\n",
    "\n",
    "plt.scatter(X.numpy()[[0,-1], 0], X.numpy()[[0, -1], 1], s=50)\n",
    "plt.scatter(X.numpy()[[1,2], 0], X.numpy()[[1, 2], 1], c='red', s=50)\n",
    "\n",
    "x_1 = np.arange(-0.1, 1.1, 0.1)\n",
    "y_1 = ((x_1 * model_weights[0,0]) + model_bias[0]) / (-model_weights[0,1])\n",
    "plt.plot(x_1, y_1)\n",
    "\n",
    "x_2 = np.arange(-0.1, 1.1, 0.1)\n",
    "y_2 = ((x_2 * model_weights[1,0]) + model_bias[1]) / (-model_weights[1,1])\n",
    "plt.plot(x_2, y_2)\n",
    "\n",
    "plt.legend([\"neuron_1\", \"neuron_2\"], loc=8)\n",
    "plt.show()"
   ],
   "metadata": {
    "collapsed": false,
    "pycharm": {
     "name": "#%%\n"
    }
   }
  },
  {
   "cell_type": "markdown",
   "source": [
    "    하나의 히든레이어를 추가함으로써 XOR문제를 해결하는 것을 볼 수 있습니다."
   ],
   "metadata": {
    "collapsed": false
   }
  },
  {
   "cell_type": "markdown",
   "source": [
    "#### 2.1.4  Multi-layer Perceptron\n",
    "![pt](https://github.com/karaopea/cnn/blob/master/images/pt/Slide13.PNG?raw=true)\n",
    "\n",
    "    우리는 이러한 문제에 좀 더 직관적으로 이해할 필요가 있습니다.\n",
    "    이해를 돕기위해 오른쪽 붉은점과 파란점을 색상을 좀 바꾸겠습니다.\n",
    "***"
   ],
   "metadata": {
    "collapsed": false
   }
  },
  {
   "cell_type": "markdown",
   "source": [
    "#### 2.1.4  Multi-layer Perceptron\n",
    "![pt](https://github.com/karaopea/cnn/blob/master/images/pt/Slide14.PNG?raw=true)\n",
    "\n",
    "    뉴런이 어떠한 방향으로 프로젝션을 할 수 있다고 생각해보시면,\n",
    "    프로젝션은 그위치에 어느 한 방향으로 본다고 생각하시면 편합니다.\n",
    "    오른쪽위에서 왼쪽아래로 프로젝션하는 뉴런에게 보이는 모습은 오른쪽과 같을 겁니다.\n",
    "    보라색은 왼쪽에 있고, 초록과 빨강은 겹쳐보일테고, 파랑은 오른쪽에 있겠죠\n",
    "    다른 뉴런은 아래와 왼쪽과 같이 보일겁니다.\n",
    "***"
   ],
   "metadata": {
    "collapsed": false
   }
  },
  {
   "cell_type": "markdown",
   "source": [
    "#### 2.1.4  Multi-layer Perceptron\n",
    "![pt](https://github.com/karaopea/cnn/blob/master/images/pt/Slide15.PNG?raw=true)\n",
    "\n",
    "    sigmoid함수를 지나면 0~1 사이에 값들로 치환이 될겁니다.\n",
    "    0과 0이하의 값들은 0에 가깝게 모일테고 4를 넘는값들은 1에 가깝게 모이겠죠?\n",
    "***"
   ],
   "metadata": {
    "collapsed": false
   }
  },
  {
   "cell_type": "markdown",
   "source": [
    "#### 2.1.4  Multi-layer Perceptron\n",
    "![pt](https://github.com/karaopea/cnn/blob/master/images/pt/Slide16.PNG?raw=true)\n",
    "\n",
    "    그럼 output 뉴런에 관점에서 오른쪽아래에서 왼쪽위로 다시 프로젝트를 해보면\n",
    "    초록과빨강은 모이게되고, 파랑과 보라가 모이게 될 겁니다.\n",
    "***"
   ],
   "metadata": {
    "collapsed": false
   }
  },
  {
   "cell_type": "markdown",
   "source": [
    "#### 2.1.4  Multi-layer Perceptron\n",
    "![pt](https://github.com/karaopea/cnn/blob/master/images/pt/Slide17.PNG?raw=true)\n",
    "[Multi-layer Perceptron](https://playground.tensorflow.org)\n",
    "\n",
    "    0.5의 값으로 나누게 되면, 빨강과 파랑을 분류할 수 있습니다.\n",
    "    이렇게 Neural Network의 layer들을 한층 씩 통과하면서 고차원적인 차원으로 이동하여,\n",
    "    xor문제를 해결할 수 있게 된다는 것을 직관적으로 이해할 수 있습니다.\n",
    "***"
   ],
   "metadata": {
    "collapsed": false
   }
  },
  {
   "cell_type": "markdown",
   "source": [
    "#### 2.1.5  Stochastic Gradient Decent\n",
    "![pt](https://github.com/karaopea/cnn/blob/master/images/sgd.png?raw=true)\n",
    "\n",
    "    여기서 어떻게 이 많은 뉴런들의 파라미터 값들을 학습할 것인지 문제가 생깁니다.\n",
    "    여기서 Gradient Decent(경사하강법)이라는 방법론이 등장합니다.\n",
    "    개념적으로 되짚어 보자면,\n",
    "    최종적으로 나온 loss를 역전파를 진행하면서 각각의 뉴런의 weight에 대해서 편미분을 하면\n",
    "    gradient가 나오는데, gradient가 낮아지는 방향으로 스텝스텝이동하면 전체 loss가 줄게됩니다.\n",
    "    앞에 Stochastic이 붙은 이유는 전체 데이터를 한번에 보지 않고,\n",
    "    mini-batch, 즉 데이터를 몇개 단위로 쪼개서 학습을 진행하면서 확률적으로 이동하기에 이런 이름이 붙었습니다.\n",
    "***"
   ],
   "metadata": {
    "collapsed": false
   }
  },
  {
   "cell_type": "markdown",
   "source": [
    "#### 2.1.5  Second AI Winter\n",
    "![pt](https://github.com/karaopea/cnn/blob/master/images/ai_winter.png?raw=true)\n",
    "\n",
    "    그럼에도 불구하고 두번째 AI 암흑기가 찾아오게 됩니다.\n",
    "    그 원인은 Vanishing Gradient(기울기소실) & Overfitting(과적합) 문제입니다.\n",
    "***"
   ],
   "metadata": {
    "collapsed": false
   }
  },
  {
   "cell_type": "markdown",
   "source": [
    "#### 2.1.6 Vanishing Gradient Problem\n",
    "![pt](https://github.com/karaopea/cnn/blob/master/images/pt/Slide22.PNG?raw=true)\n",
    "\n",
    "    Vanishing Gradient는 뉴럴 네트워크를 깊게 쌓다보니,\n",
    "    역전파가 잘 되지 않아 앞에 레이어들이 업데이트가 안되는 상황입니다.\n",
    "    문제는 sigmoid activation function을 보면 알 수 있습니다.\n",
    "    역전파를 할때 sigmoid의 도함수는 최대 0.25이기 때문에, 역전파를 하면 할 수록\n",
    "    값이 1/4씩 작아진다는 문제점이 있었습니다.\n",
    "    이 문제를 해결하기 위해 등장한 것이 아래보이는 RRRRReLU입니다.\n",
    "    Relu는 양수 일 때 y=x값이 되며,\n",
    "    특히 역전파를 할때 Relu의 도함수는 x는 0보다 크면 1 같거나 작으면 0이라는 도함수를 가지기 때문에\n",
    "    VG문제를 해결할 수 있었습니다.\n",
    "    여기서 \"아니 그러면, 0이하일때도 그냥 y=x형태로 만들어버리면 안되? 느낌 좋은데?\"라는 생각이 드실 수도 있을텐데\n",
    "    그렇게 되면 non-linear한 성질을 잃어버리기 때문에 함수표현에 제한이 생깁니다.\n",
    "    그래서 ReLU의 장점은 non-linear한 성질을 가지면서도 VG문제를 해결했다고 생각하시면 됩니다.\n",
    "***"
   ],
   "metadata": {
    "collapsed": false
   }
  },
  {
   "cell_type": "markdown",
   "source": [
    "#### 2.1.7 Dropout\n",
    "![pt](https://github.com/karaopea/cnn/blob/master/images/drop_out.png?raw=true)\n",
    "\n",
    "    또하나의 문제는 학습데이터를 외워버려서,\n",
    "    학습데이터에만 잘 동작하고 새로운 데이터에는 이상한 결과를 내놓는 overfitting 문제가 있었는데,\n",
    "    보시면 뉴런들을 학습도중 랜덤하게 끊어서 학습하여 variance를 줄임으로써\n",
    "    overfitting을 방지하는 방법으로 해결하였습니다.\n",
    "    variance가 커지면 과하게 함수를 표현할 수 있기 때문에, 이걸 좀 normalization 해준다고 생각하시면 됩니다.\n",
    "***"
   ],
   "metadata": {
    "collapsed": false
   }
  },
  {
   "cell_type": "markdown",
   "source": [
    "#### 2.1.8 What is the DL?\n",
    "![pt](https://github.com/karaopea/cnn/blob/master/images/pt/Slide25.PNG?raw=true)\n",
    "\n",
    "    딥러닝의 대가증 한명이자 튜링 수상자인 얀 르쿤 교수님이 딥러닝에 대한 정의를\n",
    "    Deep Learning 마지막 장표로 채워넣으면서 이것으로 Deep Learning 핵심 되짚기는 끝내고\n",
    "    드디어 Deep Learning for Computer Vision에 대한 이야기를 시작할까 합니다.\n",
    "\n",
    "    \"딥러닝은 패러미터화된 모듈들을 구축하고, 기울기 기반의 최적화를 통해 데이터를 학습시키는 것이다. 그게 다다.\"\n",
    "\n",
    "    (결국 이 이야기를 하려고 했는데 먼길을 돌아온 것 같습니다. 그럼 잠시 질문을 받고, 10분정도 쉬는시간을 갖겠습니다.)\n",
    "***"
   ],
   "metadata": {
    "collapsed": false
   }
  },
  {
   "cell_type": "markdown",
   "source": [
    "  <br /> <br /> <br /> <br /> <br /> <br /> <br /> <br /> <br /> <br /> <br /> <br /> <br /> <br /> <br /> <br /> <br /> <br /> <br />"
   ],
   "metadata": {
    "collapsed": false
   }
  },
  {
   "cell_type": "markdown",
   "source": [
    "## 3. **Deep Learning for Computer Vision**\n",
    "![pt](https://github.com/karaopea/cnn/blob/master/images/498_FA2019_lecture01.pdf_page_10.png?raw=true)\n",
    "### 3.1  Plan for this lecture\n",
    "1. d\n",
    "2. d\n",
    "3. d\n",
    "\n",
    "\n",
    "    이제 컴퓨터비젼에서 활용되는 딥러닝 기술들을 봅시다.\n",
    "    컴퓨터 비젼에 활용되는 현재 딥러닝 핵심 네트워크는 Convolutional Nerual Network입니다.\n",
    "    Covolutional Neural Network는 CNN, ConvNet이라고 대부분 줄여서 부르고 있습니다.\n",
    "***"
   ],
   "metadata": {
    "collapsed": false,
    "pycharm": {
     "name": "#%% md\n"
    }
   }
  },
  {
   "cell_type": "markdown",
   "source": [
    "### 3.2 Introduction\n",
    "![pt](https://github.com/karaopea/cnn/blob/master/images/lecture_1_feifei.pdf_page_06.png?raw=true)\n",
    "\n",
    "    CNN의 등장은 컴퓨터비전의 다양한 부분에 영향을 줬습니다.\n",
    "    객체검출.......VQA(시각적 질의응답)까지 전체적인 정확도 향상을 가져왔습니다.\n",
    "***"
   ],
   "metadata": {
    "collapsed": false
   }
  },
  {
   "cell_type": "markdown",
   "source": [
    "### 3.2 What is Convolutional Neural Network?\n",
    "#### 3.2.1 How human recognize an image?\n",
    "![pt](https://github.com/karaopea/cnn/blob/master/images/pt/Slide27.PNG?raw=true)\n",
    "\n",
    "    Deep Learning을 강의에서 뉴런이 등장하듯이, CNN강의에서는 대부분 이 그림을 보실 수 있는데요,\n",
    "    과연 인간의 뇌가 MLP처럼 단순하게 동작할까? 좀 더 우리가 모르는 것이 있지 않을까?\n",
    "    사람이 이미지를 어떻게 인식하는지 생물학적(biologic)으로 알아보기 시작합니다.\n",
    "    그래서  저런 단순한 움직임을 보여주며, 고양이의 뇌를 관찰합니다.\n",
    "    선이 움직인다든지, 원이 커진다든지 이런 단순한 움직임을 보여줬는데.\n",
    "    이런 움직임에서는 이 뉴런들만 활성화되고, 이런 움직임에서는 이런 뉴런들만 활성화되는것을\n",
    "    발견할 수 있었습니다.\n",
    "    그래서 우리는 이미지를 볼때 이런 간단한 특징들을 담당하는 뉴런들이 있는게 아닐까 그렇게 생각을 하게 됩니다.\n",
    "***"
   ],
   "metadata": {
    "collapsed": false
   }
  },
  {
   "cell_type": "markdown",
   "source": [
    "### 3.2 What is Convolutional Neural Network?\n",
    "#### 3.2.1 How human recognize an image?\n",
    "![pt](https://github.com/karaopea/cnn/blob/master/images/pt/Slide28.PNG?raw=true)\n",
    "\n",
    "    그리고 더 연구를 해보니까, 이 뉴런들이 계층 구조를 이루고 있다는 것을 알게됬거든요?\n",
    "    무작위하게 얽혀있는게 아니라, 시각세포와 연결되어 있는 이런 얕은(shallow)한 뉴런들이 있고\n",
    "    그리고 뒤에 이런 딥한 뉴런들이 있었는데, 이런 뉴런들이 언제 활성화가 되는지 살펴보니까\n",
    "    이런 얕은 얘들은 빛이 있냐 없냐, 어떻게 기울어져있냐 등 간단한 정보에 반응을하고\n",
    "    깊어지면 깊어질수록 이 선이 움직이느냐, 선이 이어져있느냐 끝나느냐.\n",
    "    깊어지면 깊어질수록 고차원적인 정보를 담당하는 것을 알아내게 됩니다.\n",
    "    그럼 이것을 어떻게 수학적으로 모델링해서 NN으로 만들 수 있을까? 이걸 고민해볼 차례겠죠.\n",
    "***"
   ],
   "metadata": {
    "collapsed": false
   }
  },
  {
   "cell_type": "code",
   "execution_count": 2,
   "outputs": [
    {
     "name": "stderr",
     "output_type": "stream",
     "text": [
      "C:\\Users\\kkj\\Anaconda3\\lib\\site-packages\\IPython\\core\\display.py:694: UserWarning: Consider using IPython.display.IFrame instead\n",
      "  warnings.warn(\"Consider using IPython.display.IFrame instead\")\n"
     ]
    },
    {
     "data": {
      "text/plain": "<IPython.core.display.HTML object>",
      "text/html": "<iframe width=\"560\" height=\"315\" src=\"https://www.youtube.com/embed/FwFduRA_L6Q\" frameborder=\"0\" allow=\"accelerometer; autoplay; clipboard-write; encrypted-media; gyroscope; picture-in-picture\" allowfullscreen></iframe>"
     },
     "execution_count": 2,
     "metadata": {},
     "output_type": "execute_result"
    }
   ],
   "source": [
    "\n",
    "HTML('<iframe width=\"560\" height=\"315\" src=\"https://www.youtube.com/embed/FwFduRA_L6Q\" frameborder=\"0\" allow=\"accelerometer; autoplay; clipboard-write; encrypted-media; gyroscope; picture-in-picture\" allowfullscreen></iframe>')"
   ],
   "metadata": {
    "collapsed": false,
    "pycharm": {
     "name": "#%%\n"
    }
   }
  },
  {
   "cell_type": "markdown",
   "source": [
    "    얀 르쿤 교수님 팀에서 lenet이라는 convolutional network를 발표합니다.\n",
    "    hand-writting 문자를 성공적으로 인식하는 것을 보실 수 있습니다.\n",
    "    convolution, pooling등을 이용하며 이미지를 어떻게 딥러닝에 학습시킬지 방법론을 정립합니다.\n",
    "***"
   ],
   "metadata": {
    "collapsed": false
   }
  },
  {
   "cell_type": "markdown",
   "source": [
    "### 3.3 Convolutional Neural Network\n",
    "#### 3.3.1 How can we feed images to a neural network?\n",
    "![pt](https://github.com/karaopea/cnn/blob/master/images/pt/Slide31.PNG?raw=true)\n",
    "\n",
    "    그렇다면 이미지를 어떻게 뉴럴넷에 넣을 수 있을까요?\n",
    "    이런 이미지가 있다고 생각해봅시다.\n",
    "    배경에 나무라는 객체가 있는 심플한 이미지 입니다.\n",
    "***"
   ],
   "metadata": {
    "collapsed": false
   }
  },
  {
   "cell_type": "markdown",
   "source": [
    "### 3.3 Convolutional Neural Network\n",
    "#### 3.3.1 How can we feed images to a neural network?\n",
    "![pt](https://github.com/karaopea/cnn/blob/master/images/pt/Slide32.PNG?raw=true)\n",
    "\n",
    "    이 이미지를 뉴럴넷에 입력으로 넣고 싶은데, 뉴럴넷은 입력으로 벡터를 받기 때문에\n",
    "    이미지는 2디멘션 그리드의 픽셀들입니다.\n",
    "***"
   ],
   "metadata": {
    "collapsed": false
   }
  },
  {
   "cell_type": "markdown",
   "source": [
    "### 3.3 Convolutional Neural Network\n",
    "#### 3.3.1 How can we feed images to a neural network?\n",
    "![pt](https://github.com/karaopea/cnn/blob/master/images/pt/Slide34.PNG?raw=true)\n",
    "\n",
    "    이 뉴럴넷에 넣기 위해 이미지를 쭉펴서 벡터로 만듭니다.\n",
    "    이제 이 쫙 핀 이미지를 뉴럴넷에 넣으면 되겠네요.\n",
    "***"
   ],
   "metadata": {
    "collapsed": false
   }
  },
  {
   "cell_type": "markdown",
   "source": [
    "### 3.3 Convolutional Neural Network\n",
    "#### 3.3.1 How can we feed images to a neural network?\n",
    "![pt](https://github.com/karaopea/cnn/blob/master/images/pt/Slide35.PNG?raw=true)\n",
    "\n",
    "    하지만 기대와는 다르게 이렇게 넣으면 안됩니다.\n",
    "    첫번째 문제는 이미자안에서 나무가 조금만 이동하더라도 인풋에 대한 특징이 달라지게 되어\n",
    "    전혀다른 결과물을 만들게 됩니다.\n",
    "***"
   ],
   "metadata": {
    "collapsed": false
   }
  },
  {
   "cell_type": "markdown",
   "source": [
    "### 3.3 Convolutional Neural Network\n",
    "#### 3.3.1 How can we feed images to a neural network?\n",
    "![pt](https://github.com/karaopea/cnn/blob/master/images/pt/Slide36.PNG?raw=true)\n",
    "\n",
    "    우리는 이 이미지안에서 객체가 어느위치에 있든 같은 객체라고 인식하길 원합니다.\n",
    "    이것을 Translation invriance하다고 하며,\n",
    "    의미있는 정보를 위치에 상관없이 추출하고 같은 결과를 출력하길 원합니다.\n",
    "***"
   ],
   "metadata": {
    "collapsed": false
   }
  },
  {
   "cell_type": "markdown",
   "source": [
    "### 3.3 Convolutional Neural Network\n",
    "#### 3.3.2 Convolution ≈  Cross-correlation\n",
    "![pt](https://github.com/karaopea/cnn/blob/master/images/pt/Slide37.PNG?raw=true)\n",
    "\n",
    "    여기서 이런 객체의 위치에 구애받지 않고, 지역적 특징을 잘 추출하기 위해서\n",
    "    Convolution 연산을 사용합니다.\n",
    "    이해를 돕기 위해서 이미지를 1차원으로 줄였다고 가정하고 설명하겠습니다.\n",
    "    Convolution 연산의 수학적 의미는 왼쪽과 같고,\n",
    "    쉽게 커널(필터)를 뒤집고 곱해서 더한다라고 생각하시면됩니다.\n",
    "![pt](https://github.com/karaopea/cnn/blob/master/images/pt/Slide38.PNG?raw=true)\n",
    "![pt](https://github.com/karaopea/cnn/blob/master/images/pt/Slide39.PNG?raw=true)\n",
    "![pt](https://github.com/karaopea/cnn/blob/master/images/pt/Slide40.PNG?raw=true)\n",
    "![pt](https://github.com/karaopea/cnn/blob/master/images/pt/Slide41.PNG?raw=true)\n",
    "\n",
    "    인풋 시그널이 어디에 있든 result의 위치는 다르겠지만 같은 형태의 결과가 나올 것입니다.\n",
    "    이렇게 convolution연산과 softmax를 통해서 Translation invriance한 결과를 만듭니다.\n",
    "    실제 뉴럴넷에서는 커널을 뒤집는것이 중요하지 않기 때문에, 커널을 그냥 곱해주는\n",
    "    cross-correlation연산을 하지만 개념적인 부분만 사용한 것이기 때문에 Convolution이라고 부릅니다.\n",
    "    그래서 딥러닝에서는 아래 result를 가지고 우리가 원하는 정답값과 비교를 해가면서 차이를 줄이는 방향으로\n",
    "    위에 kernel형태를 학습을 반복하면서 변경해 나갑니다.\n",
    "***"
   ],
   "metadata": {
    "collapsed": false
   }
  },
  {
   "cell_type": "markdown",
   "source": [
    "### 3.3 Convolutional Neural Network\n",
    "#### 3.3.2 Convolution operation\n",
    "![pt](https://github.com/karaopea/cnn/blob/master/images/sobel.png?raw=true)\n",
    "\n",
    "    이건 sobel 필터라는 건데요 sobel이란 사람이 이미지의 외곽선 검출을 위해 kernel(필터)를 이렇게 정의를 한겁니다.\n",
    "***"
   ],
   "metadata": {
    "collapsed": false
   }
  },
  {
   "cell_type": "code",
   "execution_count": 3,
   "outputs": [
    {
     "name": "stderr",
     "output_type": "stream",
     "text": [
      "C:\\Users\\kkj\\Anaconda3\\lib\\site-packages\\IPython\\core\\display.py:694: UserWarning: Consider using IPython.display.IFrame instead\n",
      "  warnings.warn(\"Consider using IPython.display.IFrame instead\")\n"
     ]
    },
    {
     "data": {
      "text/plain": "<IPython.core.display.HTML object>",
      "text/html": "<iframe width=\"560\" height=\"315\" src=\"https://www.youtube.com/embed/hPCTwxF0qf4\" frameborder=\"0\" allow=\"accelerometer; autoplay; clipboard-write; encrypted-media; gyroscope; picture-in-picture\" allowfullscreen></iframe>"
     },
     "execution_count": 3,
     "metadata": {},
     "output_type": "execute_result"
    }
   ],
   "source": [
    "# haar like\n",
    "HTML('<iframe width=\"560\" height=\"315\" src=\"https://www.youtube.com/embed/hPCTwxF0qf4\" frameborder=\"0\" allow=\"accelerometer; autoplay; clipboard-write; encrypted-media; gyroscope; picture-in-picture\" allowfullscreen></iframe>')\n"
   ],
   "metadata": {
    "collapsed": false,
    "pycharm": {
     "name": "#%%\n"
    }
   }
  },
  {
   "cell_type": "markdown",
   "source": [
    "    마찬가지로 이건 Viola, Jones가 정의한 haar-like feature인데요,\n",
    "    얼굴에 대한 특징을 여러개의 필터 이용해서 찾는 것을 보실 수 있습니다.\n",
    "    딥러닝에서는 어떻게 하면 목표 객체의 특징을 잘 찾을 수 있는 커널을 컴퓨터가 찾아주는 것이죠"
   ],
   "metadata": {
    "collapsed": false
   }
  },
  {
   "cell_type": "markdown",
   "source": [
    "### 3.3 Convolutional Neural Network\n",
    "#### 3.3.2 Convolution operation\n",
    "![pt](https://github.com/karaopea/cnn/blob/master/images/pt/Slide43.PNG?raw=true)\n",
    "\n",
    "    그럼 다시 2차원 이미지로 돌아와봅시다.\n",
    "    1차원때 설명한 것과 같은 방법으로 진행합니다.\n",
    "![pt](https://github.com/karaopea/cnn/blob/master/images/pt/Slide44.PNG?raw=true)\n",
    "![pt](https://github.com/karaopea/cnn/blob/master/images/pt/Slide45.PNG?raw=true)\n",
    "\n",
    "    한칸씩 이동하면서 곱하고 더해서 값을 만들고, 오른쪽 끝에 도달하면 한칸 아래로 내려와서\n",
    "    반복합니다. 이것을 이미지 끝까지 진행하면 오른쪽과 같은 2차원 결과가 만들어질 것입니다.\n",
    "***"
   ],
   "metadata": {
    "collapsed": false
   }
  },
  {
   "cell_type": "markdown",
   "source": [
    "### 3.3 Convolutional Neural Network\n",
    "#### 3.3.2 Convolution operation\n",
    "![pt](https://github.com/karaopea/cnn/blob/master/images/pt/Slide46.PNG?raw=true)\n",
    "\n",
    "    우리는 3x3의 슬라이딩 윈도우를 커널이라고 부르고,\n",
    "    이 커널과 곱하고 합해져서 나온 값을 feature map이라고 부릅니다.\n",
    "    그리고 이 feature map을 보시면\n",
    "    왼쪽 위 한칸이 상위의 3x3의 정보가 들어온것이기 때문에,\n",
    "    이 칸의 Receptive filed는 여기 3x3이다 라고 말합니다.\n",
    "\n",
    "***"
   ],
   "metadata": {
    "collapsed": false
   }
  },
  {
   "cell_type": "markdown",
   "source": [
    "### 3.3 Convolutional Neural Network\n",
    "#### 3.3.2 Convolution operation\n",
    "![pt](https://github.com/karaopea/cnn/blob/master/images/pt/Slide47.PNG?raw=true)\n",
    "\n",
    "    이 3x3 convolution unit들은 뉴럴넷의 뉴런과 같은 기능을 하고 있으며,\n",
    "    weight와 bias값을 가지고 이미지에서 선, 색상등 다양한 feature를 잘 추출하기 위해 학습되어 집니다.\n",
    "\n",
    "    그럼 이미지를 하나 불러서 convolution 연산을 실습해봅시다.\n",
    "***"
   ],
   "metadata": {
    "collapsed": false
   }
  },
  {
   "cell_type": "code",
   "execution_count": 8,
   "outputs": [
    {
     "data": {
      "text/plain": "<Figure size 432x288 with 1 Axes>",
      "image/png": "[encoded data removed]"
     },
     "metadata": {
      "needs_background": "light"
     },
     "output_type": "display_data"
    },
    {
     "name": "stdout",
     "output_type": "stream",
     "text": [
      "1.image shape: (32, 32, 3)\n",
      "2.tensor shape: torch.Size([3, 32, 32])\n",
      "3.shape of feature map after conv: torch.Size([3, 30, 30])\n"
     ]
    },
    {
     "name": "stderr",
     "output_type": "stream",
     "text": [
      "Clipping input data to the valid range for imshow with RGB data ([0..1] for floats or [0..255] for integers).\n"
     ]
    },
    {
     "data": {
      "text/plain": "<Figure size 432x288 with 1 Axes>",
      "image/png": "[encoded data removed]"
     },
     "metadata": {
      "needs_background": "light"
     },
     "output_type": "display_data"
    }
   ],
   "source": [
    "# select car image in cifar10 dataset\n",
    "img = partition['train'].dataset.data[4]\n",
    "plt.imshow(img)\n",
    "plt.show()\n",
    "print('1.image shape:',img.shape)\n",
    "\n",
    "# trans np to torch (h,w,c) -> (c,h,w)\n",
    "x = transform(img)\n",
    "print('2.tensor shape:',x.shape)\n",
    "\n",
    "conv = nn.Conv2d(3, 3, 3, stride=1)\n",
    "# add batch dim\n",
    "x = x.unsqueeze(0)\n",
    "x = conv(x)\n",
    "imshow(x.squeeze().detach().cpu())\n",
    "print('3.shape of feature map after conv:',x.squeeze().shape)"
   ],
   "metadata": {
    "collapsed": false,
    "pycharm": {
     "name": "#%%\n"
    }
   }
  },
  {
   "cell_type": "markdown",
   "source": [
    "### 3.3 Convolutional Neural Network\n",
    "#### 3.3.2 Convolution operation\n",
    "![pt](https://github.com/karaopea/cnn/blob/master/images/pt/Slide52.PNG?raw=true)\n",
    "\n",
    "    방금 실습에서는 3개의 커널을 사용해서 convolution연산을 했습니다.\n",
    "    커널이 많아질수록 각 필터가 예를들어 가로, 세로, 대각선 특징들을 뽑듯이\n",
    "    다양한 feature들을 추출할 수 있습니다.\n",
    "***"
   ],
   "metadata": {
    "collapsed": false,
    "pycharm": {
     "name": "#%% md\n"
    }
   }
  },
  {
   "cell_type": "code",
   "execution_count": 9,
   "outputs": [
    {
     "name": "stdout",
     "output_type": "stream",
     "text": [
      "torch.Size([3, 32, 32])\n",
      "torch.Size([3, 30, 30])\n",
      "torch.Size([3, 28, 28])\n",
      "torch.Size([3, 26, 26])\n"
     ]
    }
   ],
   "source": [
    "# select car image in cifar10 dataset\n",
    "x = transform(img)\n",
    "print(x.shape)\n",
    "\n",
    "conv = nn.Conv2d(3, 3, 3, stride=1)\n",
    "x = x.unsqueeze(0)\n",
    "x = conv(x)\n",
    "print(x.squeeze().shape)\n",
    "x = conv(x)\n",
    "print(x.squeeze().shape)\n",
    "x = conv(x)\n",
    "print(x.squeeze().shape)"
   ],
   "metadata": {
    "collapsed": false,
    "pycharm": {
     "name": "#%%\n"
    }
   }
  },
  {
   "cell_type": "markdown",
   "source": [
    "### 3.3 Convolutional Neural Network\n",
    "#### 3.3.2 Convolution operation\n",
    "![pt](https://github.com/karaopea/cnn/blob/master/images/pt/Slide55.PNG?raw=true)\n",
    "\n",
    "    위 코드 처럼 convolution연산은 convolution을 거듭할 수록 다음 feature맵이 작아지게 됩니다.\n",
    "    입력 이미지가 작을 경우에는 convolution 연산을 몇번 할 수 없겠죠?\n",
    "    마찬가지로 입력이 계속 작아지니 네트워크도 깊게 쌓을 수 없을 것 입니다.\n",
    "***"
   ],
   "metadata": {
    "collapsed": false,
    "pycharm": {
     "name": "#%% md\n"
    }
   }
  },
  {
   "cell_type": "markdown",
   "source": [
    "### 3.3 Convolutional Neural Network\n",
    "#### 3.3.3 Padding\n",
    "![pt](https://github.com/karaopea/cnn/blob/master/images/pt/Slide57.PNG?raw=true)\n",
    "\n",
    "    그래서 convolution 연산을 할 때, 테두리에 여분을 추가해서 입력이 축소되는 것을 방지합니다.\n",
    "    이렇게 여분을 추가하는 것을 padding이라 부르고,\n",
    "    input과 output크기가 같게 나오도록 conv하는 것을 same convolution이라고 부릅니다.\n",
    "    3x3 커널일때는 한줄만 추가하면 되지만, 5x5 커널을 사용한다면 두줄을 추가해야 same conv가 되겠죠?\n",
    "***"
   ],
   "metadata": {
    "collapsed": false
   }
  },
  {
   "cell_type": "code",
   "execution_count": 10,
   "outputs": [
    {
     "name": "stdout",
     "output_type": "stream",
     "text": [
      "torch.Size([3, 32, 32])\n",
      "torch.Size([3, 32, 32])\n",
      "torch.Size([3, 32, 32])\n",
      "torch.Size([3, 32, 32])\n"
     ]
    }
   ],
   "source": [
    "# select car image in cifar10 dataset\n",
    "x = transform(img)\n",
    "print(x.shape)\n",
    "\n",
    "conv = nn.Conv2d(3, 3, 3, stride=1, padding=1)\n",
    "x = x.unsqueeze(0)\n",
    "x = conv(x)\n",
    "print(x.squeeze().shape)\n",
    "x = conv(x)\n",
    "print(x.squeeze().shape)\n",
    "x = conv(x)\n",
    "print(x.squeeze().shape)"
   ],
   "metadata": {
    "collapsed": false,
    "pycharm": {
     "name": "#%%\n"
    }
   }
  },
  {
   "cell_type": "markdown",
   "source": [
    "### 3.3 Convolutional Neural Network\n",
    "#### 3.3.4 Pooling\n",
    "![pt](https://github.com/karaopea/cnn/blob/master/images/pt/Slide59.PNG?raw=true)\n",
    "\n",
    "    반대로 입력 이미지가 너무 클 경우를 생각해봅시다.\n",
    "    입력이 크다는 것은 유지해야할 parameter가 많아진다는 것을 뜻하는 것이고,\n",
    "    이는 모델이 너무 커져 학습속도도 느려지고 같은 파라미터값들이 많아지는 현상이 일어날 수 있습니다.\n",
    "    그래서 우리는 어느정도 이 feature map크기에서 특징추출을 한것 같다라는 생각이들면\n",
    "    pooling을 통해서 입력을 줄여줍니다. 보통 계산하기 편하기 위해 입력을 반으로 줄입니다.\n",
    "***"
   ],
   "metadata": {
    "collapsed": false,
    "pycharm": {
     "name": "#%% md\n"
    }
   }
  },
  {
   "cell_type": "code",
   "execution_count": 11,
   "outputs": [
    {
     "name": "stdout",
     "output_type": "stream",
     "text": [
      "torch.Size([3, 32, 32])\n",
      "torch.Size([3, 32, 32])\n",
      "torch.Size([3, 32, 32])\n",
      "torch.Size([3, 32, 32])\n"
     ]
    }
   ],
   "source": [
    "# select car image in cifar10 dataset\n",
    "x = transform(img)\n",
    "print(x.shape)\n",
    "\n",
    "conv = nn.Conv2d(3, 3, 3, stride=1, padding=1)\n",
    "x = x.unsqueeze(0)\n",
    "x = conv(x)\n",
    "print(x.squeeze().shape)\n",
    "x = conv(x)\n",
    "print(x.squeeze().shape)\n",
    "x = conv(x)\n",
    "print(x.squeeze().shape)"
   ],
   "metadata": {
    "collapsed": false,
    "pycharm": {
     "name": "#%%\n"
    }
   }
  },
  {
   "cell_type": "markdown",
   "source": [
    "### 3.3 Convolutional Neural Network\n",
    "#### 3.3.5 Sequence of convolutional layers\n",
    "![pt](https://github.com/karaopea/cnn/blob/master/images/pt/Slide61.PNG?raw=true)\n",
    "![pt](https://github.com/karaopea/cnn/blob/master/images/pt/Slide63.PNG?raw=true)\n",
    "![pt](https://github.com/karaopea/cnn/blob/master/images/pt/Slide64.PNG?raw=true)\n",
    "    위와같이 CNN은 Convolution, Activation Fuction인 ReLU, Pooling등을 반복하면서 연산을 해나갑니다.\n",
    "    첫번째 Convolution Kernel들은 색상이나 선의 방향등 단순한 feature들을 학습하고,\n",
    "    Layer가 깊어질수록 더이상은 인간이 이해하지 못하는 고차원적인 feature들이 representation됩니다.RGB기 때문에..\n",
    "    그래도 깊이 있는 애들이 복잡한 것을 탐지한다고 예상할 순 있겠네요.\n",
    "\n",
    "    shallow한곳에서는 단순한 feature를 인식하고 deep한곳에서는 간단한 정보를 취합함으로써 좀 더 복잡한 정보를 탐지한다.\n",
    "    이런식으로 뇌가 동작한다고 연구가 되어왔는데 그것을 잘 모방했다고 볼 수 있겠네요.\n",
    "\n",
    "    이 그림은 언제 Layer5의 뉴런들이 Activation되는지 weight를 쌓아가면서 계산하여 Visulization을 한건데요,\n",
    "    Layer 5까지오면 꽃잎의 형태, 사람얼굴, 강아지의 얼굴등 고차원적인 정보를 다루는 것을 볼 수 있습니다.\n",
    "***"
   ],
   "metadata": {
    "collapsed": false,
    "pycharm": {
     "name": "#%% md\n"
    }
   }
  },
  {
   "cell_type": "code",
   "execution_count": 12,
   "outputs": [
    {
     "data": {
      "text/plain": "<Figure size 432x288 with 1 Axes>",
      "image/png": "[encoded data removed]"
     },
     "metadata": {
      "needs_background": "light"
     },
     "output_type": "display_data"
    },
    {
     "name": "stderr",
     "output_type": "stream",
     "text": [
      "Clipping input data to the valid range for imshow with RGB data ([0..1] for floats or [0..255] for integers).\n"
     ]
    },
    {
     "data": {
      "text/plain": "<Figure size 432x288 with 1 Axes>",
      "image/png": "[encoded data removed]"
     },
     "metadata": {
      "needs_background": "light"
     },
     "output_type": "display_data"
    },
    {
     "data": {
      "text/plain": "<Figure size 432x288 with 1 Axes>",
      "image/png": "[encoded data removed]"
     },
     "metadata": {
      "needs_background": "light"
     },
     "output_type": "display_data"
    },
    {
     "data": {
      "text/plain": "<Figure size 432x288 with 1 Axes>",
      "image/png": "[encoded data removed]"
     },
     "metadata": {
      "needs_background": "light"
     },
     "output_type": "display_data"
    }
   ],
   "source": [
    "# select car image in cifar10 dataset\n",
    "img = partition['train'].dataset.data[4]\n",
    "plt.imshow(img)\n",
    "plt.show()\n",
    "\n",
    "# trans np to torch (h,w,c) -> (c,h,w)\n",
    "\n",
    "x = transform(img)\n",
    "\n",
    "conv = nn.Conv2d(3, 3, 3, stride=1, padding=1)\n",
    "relu = nn.ReLU()\n",
    "pooling = nn.MaxPool2d(2,2)\n",
    "# add batch dim\n",
    "x = x.unsqueeze(0)\n",
    "x = relu(conv(x))\n",
    "imshow(x.squeeze().detach().cpu())\n",
    "x = pooling(relu(conv(x)))\n",
    "imshow(x.squeeze().detach().cpu())\n",
    "x = relu(conv(x))\n",
    "imshow(x.squeeze().detach().cpu())"
   ],
   "metadata": {
    "collapsed": false,
    "pycharm": {
     "name": "#%%\n"
    }
   }
  },
  {
   "cell_type": "markdown",
   "source": [
    "    실습을 간단히 해보자면, 여기서는 커널(필터)들이 어떻게 학습되어지는진 볼 순 없지만\n",
    "    Conv연산을 거칠수록 feature맵이 어떻게 변화되는지 살펴보도록 합시다.\n",
    "    위에 설명드린것처럼 Convoltion연산을 하고, Activation function을 통과하고 중간에 풀링을 해보겠습니다."
   ],
   "metadata": {
    "collapsed": false
   }
  },
  {
   "cell_type": "markdown",
   "source": [
    "### 3.3 Convolutional Neural Network\n",
    "#### 3.3.5 Sequence of convolutional layers\n",
    "![pt](https://github.com/karaopea/cnn/blob/master/images/pt/Slide65.PNG?raw=true)\n",
    "\n",
    "    이것은 Convolution Net의 기본 구조를 나타낸건데요. 한번 봅시다.\n",
    "    아까 말씀드렸듯이, Conv, ReLU, Pool을 반복하고, 마지막에 FC가 있네요.\n",
    "    FC는 MLP와 같은 말입니다. 마지막에 나온 고차원적인 정보를 vectorize 시켜서\n",
    "    MLP에 넣어주고, 이게 어떤 객체인지 MLP와 했던것과 똑같이 분류문제를 풉니다.\n",
    "    마지막 feature맵은 더이상 위치정보가 남아있지 않은 객체의 feature의 정보이기 때문에\n",
    "    MLP로 넣을 수 있게 되는거구요.\n",
    "\n",
    "    그럼 위와 그림과 같은 ConvNet을 하나 구현해볼까요?\n",
    "***"
   ],
   "metadata": {
    "collapsed": false
   }
  },
  {
   "cell_type": "code",
   "execution_count": 14,
   "outputs": [
    {
     "name": "stdout",
     "output_type": "stream",
     "text": [
      "Namespace(act='relu', epoch=40, exp_name='exp1_lr', l2=1e-05, lr=0.001, model='CNN', optim='SGD', test_batch_size=32, train_batch_size=128)\n",
      "Epoch 0, Acc(train/val): 10.07/11.68, Loss(train/val) 2.30/2.30. Took 10.38 sec\n",
      "Epoch 1, Acc(train/val): 16.73/23.94, Loss(train/val) 2.22/2.11. Took 10.27 sec\n",
      "Epoch 2, Acc(train/val): 25.80/28.08, Loss(train/val) 2.00/1.91. Took 10.74 sec\n",
      "Epoch 3, Acc(train/val): 32.80/35.36, Loss(train/val) 1.80/1.70. Took 10.86 sec\n",
      "Epoch 4, Acc(train/val): 40.96/43.40, Loss(train/val) 1.60/1.52. Took 12.11 sec\n",
      "Epoch 5, Acc(train/val): 46.34/44.92, Loss(train/val) 1.48/1.50. Took 10.83 sec\n",
      "Epoch 6, Acc(train/val): 50.36/50.80, Loss(train/val) 1.37/1.35. Took 10.26 sec\n",
      "Epoch 7, Acc(train/val): 53.50/53.78, Loss(train/val) 1.29/1.28. Took 10.28 sec\n",
      "Epoch 8, Acc(train/val): 57.83/55.61, Loss(train/val) 1.18/1.23. Took 10.47 sec\n",
      "Epoch 9, Acc(train/val): 60.66/60.92, Loss(train/val) 1.10/1.12. Took 10.27 sec\n",
      "Epoch 10, Acc(train/val): 63.49/62.34, Loss(train/val) 1.03/1.06. Took 10.29 sec\n",
      "Epoch 11, Acc(train/val): 66.77/63.58, Loss(train/val) 0.94/1.01. Took 10.29 sec\n",
      "Epoch 12, Acc(train/val): 68.38/62.03, Loss(train/val) 0.89/1.06. Took 10.24 sec\n",
      "Epoch 13, Acc(train/val): 68.59/63.89, Loss(train/val) 0.90/1.02. Took 10.85 sec\n",
      "Epoch 14, Acc(train/val): 70.11/66.05, Loss(train/val) 0.85/0.99. Took 10.47 sec\n",
      "Epoch 15, Acc(train/val): 71.18/65.89, Loss(train/val) 0.81/0.97. Took 10.29 sec\n",
      "Epoch 16, Acc(train/val): 72.28/66.18, Loss(train/val) 0.79/0.97. Took 10.27 sec\n",
      "Epoch 17, Acc(train/val): 73.91/66.85, Loss(train/val) 0.75/0.96. Took 10.61 sec\n",
      "Epoch 18, Acc(train/val): 74.32/66.46, Loss(train/val) 0.73/0.95. Took 10.45 sec\n",
      "Epoch 19, Acc(train/val): 73.81/64.28, Loss(train/val) 0.75/1.05. Took 10.29 sec\n",
      "Epoch 20, Acc(train/val): 74.25/66.59, Loss(train/val) 0.73/0.98. Took 10.88 sec\n",
      "Epoch 21, Acc(train/val): 75.04/65.62, Loss(train/val) 0.71/1.01. Took 10.60 sec\n",
      "Epoch 22, Acc(train/val): 75.25/67.49, Loss(train/val) 0.71/1.00. Took 10.46 sec\n",
      "Epoch 23, Acc(train/val): 76.14/67.46, Loss(train/val) 0.68/0.95. Took 10.80 sec\n",
      "Epoch 24, Acc(train/val): 77.66/68.07, Loss(train/val) 0.63/0.98. Took 10.55 sec\n",
      "Epoch 25, Acc(train/val): 77.75/66.38, Loss(train/val) 0.63/1.00. Took 10.60 sec\n",
      "Epoch 26, Acc(train/val): 78.12/67.75, Loss(train/val) 0.62/0.97. Took 10.69 sec\n",
      "Epoch 27, Acc(train/val): 77.98/66.43, Loss(train/val) 0.62/0.99. Took 10.37 sec\n",
      "Epoch 28, Acc(train/val): 78.66/66.46, Loss(train/val) 0.61/1.03. Took 10.54 sec\n",
      "Epoch 29, Acc(train/val): 79.28/67.08, Loss(train/val) 0.59/0.99. Took 10.61 sec\n",
      "Epoch 30, Acc(train/val): 79.53/66.61, Loss(train/val) 0.58/1.04. Took 10.83 sec\n",
      "Epoch 31, Acc(train/val): 78.63/66.38, Loss(train/val) 0.61/1.05. Took 11.03 sec\n",
      "Epoch 32, Acc(train/val): 78.89/66.41, Loss(train/val) 0.61/1.00. Took 10.72 sec\n",
      "Epoch 33, Acc(train/val): 79.13/66.92, Loss(train/val) 0.59/1.06. Took 10.39 sec\n",
      "Epoch 34, Acc(train/val): 79.51/67.23, Loss(train/val) 0.59/0.99. Took 10.54 sec\n",
      "Epoch 35, Acc(train/val): 80.72/67.14, Loss(train/val) 0.55/1.03. Took 10.70 sec\n",
      "Epoch 36, Acc(train/val): 81.03/67.63, Loss(train/val) 0.54/0.99. Took 10.65 sec\n",
      "Epoch 37, Acc(train/val): 81.34/67.42, Loss(train/val) 0.54/1.04. Took 10.28 sec\n",
      "Epoch 38, Acc(train/val): 81.51/66.26, Loss(train/val) 0.53/1.05. Took 10.65 sec\n",
      "Epoch 39, Acc(train/val): 81.01/66.79, Loss(train/val) 0.55/1.06. Took 10.80 sec\n"
     ]
    },
    {
     "data": {
      "text/plain": "<Figure size 275.375x216 with 1 Axes>",
      "image/png": "[encoded data removed]"
     },
     "metadata": {
      "needs_background": "light"
     },
     "output_type": "display_data"
    },
    {
     "data": {
      "text/plain": "<Figure size 275.375x216 with 1 Axes>",
      "image/png": "[encoded data removed]"
     },
     "metadata": {
      "needs_background": "light"
     },
     "output_type": "display_data"
    }
   ],
   "source": [
    "\n",
    "class CNN(nn.Module):\n",
    "    def __init__(self):\n",
    "        super(CNN, self).__init__()\n",
    "        self.conv1_1 = nn.Conv2d(3, 16, kernel_size=3, stride=1, padding=1 )\n",
    "        self.conv1_2 = nn.Conv2d(16, 16, kernel_size=3, stride=1, padding=1)\n",
    "        self.conv2_1 = nn.Conv2d(16, 32, kernel_size=3, stride=1, padding=1 )\n",
    "        self.conv2_2 = nn.Conv2d(32, 32, kernel_size=3, stride=1, padding=1)\n",
    "        self.conv3_1 = nn.Conv2d(32, 64, kernel_size=3, stride=1, padding=1)\n",
    "        self.conv3_2 = nn.Conv2d(64, 64, kernel_size=3, stride=1, padding=1)\n",
    "        self.pool = nn.MaxPool2d(2, 2)\n",
    "        self.relu = nn.ReLU()\n",
    "        #32->16->8->4 : 4*4*64\n",
    "        self.fc = nn.Linear(4*4*64, 10)\n",
    "\n",
    "    def forward(self, x):\n",
    "        x = self.relu(self.conv1_1(x))\n",
    "        x = self.relu(self.conv1_2(x))\n",
    "        x = self.pool(x)\n",
    "        x = self.relu(self.conv2_1(x))\n",
    "        x = self.relu(self.conv2_2(x))\n",
    "        x = self.pool(x)\n",
    "        x = self.relu(self.conv3_1(x))\n",
    "        x = self.relu(self.conv3_2(x))\n",
    "        x = self.pool(x)\n",
    "        x = x.view(x.size(0), -1)\n",
    "        x = self.fc(x)\n",
    "        return x\n",
    "\n",
    "\n",
    "# ====== Random Seed Initialization ====== #\n",
    "seed = 123\n",
    "np.random.seed(seed)\n",
    "torch.manual_seed(seed)\n",
    "\n",
    "parser = argparse.ArgumentParser()\n",
    "args = parser.parse_args(\"\")\n",
    "args.exp_name = \"exp1_lr\"\n",
    "#models = ['CNN', 'Resnet']\n",
    "args.model = 'CNN'\n",
    "args.act = 'relu'\n",
    "args.l2 = 0.00001\n",
    "args.optim = 'SGD'  # 'RMSprop' #SGD, RMSprop, ADAM...\n",
    "args.lr = 1e-3\n",
    "args.epoch = 40\n",
    "\n",
    "args.train_batch_size = 128\n",
    "args.test_batch_size = 32\n",
    "\n",
    "\n",
    "print(args)\n",
    "setting, result = experiment(partition, deepcopy(args))\n",
    "plot_loss_variation(result)\n",
    "plot_acc_variation(result)"
   ],
   "metadata": {
    "collapsed": false,
    "pycharm": {
     "name": "#%%\n"
    }
   }
  },
  {
   "cell_type": "markdown",
   "source": [
    "### 3.4 Going deeper: Case studies\n",
    "![pt](https://github.com/karaopea/cnn/blob/master/images/pt/Slide74.PNG?raw=true)\n",
    "\n",
    "    ImageNet 데이터 베이스를 이용해서 1000개의 클래스에 대한 top-5 error 그래프입니다.\n",
    "    cifar에 비해서 이미지도 크고(227x227x3) 분류해야될 클래스도 많기 때문에 어렵겠죠? 데이터셋도 더 크구요.\n",
    "    이 network들이 어떠한 테크닉을 사용하였는지, case study를 통해 같이 살펴보겠습니다.\n",
    "***\n",
    "\n"
   ],
   "metadata": {
    "collapsed": false,
    "pycharm": {
     "name": "#%% md\n"
    }
   }
  },
  {
   "cell_type": "markdown",
   "source": [
    "### 3.4 Going deeper: Case studies\n",
    "### 3.4.2 AlexNet\n",
    "![pt](https://github.com/karaopea/cnn/blob/master/images/pt/Slide71.PNG?raw=true)\n",
    "\n",
    "    CNN을 사용해서 Imagenet Challange에서 우승한 최초의 딥러닝 네트워크인 alexnet입니다.\n",
    "    논문에도 아키텍쳐 다이어그램이 위에 짤린것으로 나타내는 데, 정확히는 모르겠지만 의도적으로 한것같다.\n",
    "    이 아키텍처 다이그램이 보통적으로 보이지 않는 이유는 2gpu를 사용해서 큰 모델을 학습시키기 위해서,\n",
    "    two-stream network입니다.\n",
    "    학습하는데, 6일이 걸렸음, 지금은 몇분만에 학습가능\n",
    "***"
   ],
   "metadata": {
    "collapsed": false
   }
  },
  {
   "cell_type": "markdown",
   "source": [
    "### 3.4 Going deeper: Case studies\n",
    "### 3.4.3 VGGNet\n",
    "![pt](https://github.com/karaopea/cnn/blob/master/images/Lec6-A.pdf_page_17.png?raw=true)\n",
    "\n",
    "    ㅇ\n",
    "***"
   ],
   "metadata": {
    "collapsed": false
   }
  },
  {
   "cell_type": "markdown",
   "source": [
    "### 3.4 Going deeper: Case studies\n",
    "### 3.4.3 VGGNet\n",
    "![pt](https://github.com/karaopea/cnn/blob/master/images/pt/Slide75.PNG?raw=true)\n",
    "\n",
    "    g\n",
    "***"
   ],
   "metadata": {
    "collapsed": false
   }
  },
  {
   "cell_type": "markdown",
   "source": [
    "### 3.4 Going deeper: Case studies\n",
    "### 3.4.3 VGGNet\n",
    "![pt](https://github.com/karaopea/cnn/blob/master/images/pt/Slide76.PNG?raw=true)\n",
    "\n",
    "    g\n",
    "***"
   ],
   "metadata": {
    "collapsed": false
   }
  },
  {
   "cell_type": "markdown",
   "source": [
    "### 3.4 Going deeper: Case studies\n",
    "### 3.4.3 VGGNet\n",
    "![pt](https://github.com/karaopea/cnn/blob/master/images/pt/Slide77.PNG?raw=true)\n",
    "\n",
    "    g\n",
    "***"
   ],
   "metadata": {
    "collapsed": false
   }
  },
  {
   "cell_type": "markdown",
   "source": [
    "### 3.4 Going deeper: Case studies\n",
    "### 3.4.4 GoogLeNet\n",
    "![pt](https://github.com/karaopea/cnn/blob/master/images/pt/Slide77.PNG?raw=true)\n",
    "\n",
    "    g\n",
    "***"
   ],
   "metadata": {
    "collapsed": false
   }
  },
  {
   "cell_type": "markdown",
   "source": [
    "### 3.4 Going deeper: Case studies\n",
    "### 3.4.5 Chanllenges of depth\n",
    "![pt](https://github.com/karaopea/cnn/blob/master/images/pt/Slide78.PNG?raw=true)\n",
    "\n",
    "    g\n",
    "***"
   ],
   "metadata": {
    "collapsed": false
   }
  },
  {
   "cell_type": "markdown",
   "source": [
    "### 3.4 Going deeper: Case studies\n",
    "### 3.4.5 GooLeNet: Inception module\n",
    "![pt](https://github.com/karaopea/cnn/blob/master/images/pt/Slide79.PNG?raw=true)\n",
    "\n",
    "    g\n",
    "***"
   ],
   "metadata": {
    "collapsed": false
   }
  },
  {
   "cell_type": "markdown",
   "source": [
    "### 3.4 Going deeper: Case studies\n",
    "### 3.4.5 GooLeNet: batch normalization\n",
    "![pt](https://github.com/karaopea/cnn/blob/master/images/pt/Slide79.PNG?raw=true)\n",
    "\n",
    "    g\n",
    "***"
   ],
   "metadata": {
    "collapsed": false
   }
  },
  {
   "cell_type": "markdown",
   "source": [
    "### 3.4 Going deeper: Case studies\n",
    "### 3.4.5 GooLeNet: batch normalization\n",
    "![pt](https://github.com/karaopea/cnn/blob/master/images/pt/Slide80.PNG?raw=true)\n",
    "\n",
    "    g\n",
    "***"
   ],
   "metadata": {
    "collapsed": false
   }
  },
  {
   "cell_type": "markdown",
   "source": [
    "### 3.4 Going deeper: Case studies\n",
    "### 3.4.5 GooLeNet: batch normalization\n",
    "![pt](https://github.com/karaopea/cnn/blob/master/images/pt/Slide81.PNG?raw=true)\n",
    "\n",
    "    g\n",
    "***"
   ],
   "metadata": {
    "collapsed": false
   }
  },
  {
   "cell_type": "markdown",
   "source": [
    "### 3.4 Going deeper: Case studies\n",
    "### 3.4.6 ResNet\n",
    "![pt](https://github.com/karaopea/cnn/blob/master/images/pt/Slide82.PNG?raw=true)\n",
    "\n",
    "    g\n",
    "***"
   ],
   "metadata": {
    "collapsed": false
   }
  },
  {
   "cell_type": "markdown",
   "source": [
    "### 3.4 Going deeper: Case studies\n",
    "### 3.4.6 ResNet: residual connections\n",
    "![pt](https://github.com/karaopea/cnn/blob/master/images/pt/Slide83.PNG?raw=true)\n",
    "\n",
    "    g\n",
    "***"
   ],
   "metadata": {
    "collapsed": false
   }
  },
  {
   "cell_type": "markdown",
   "source": [
    "### 3.4 Going deeper: Case studies\n",
    "### 3.4.6 ResNet\n",
    "![pt](https://github.com/karaopea/cnn/blob/master/images/pt/Slide84.PNG?raw=true)\n",
    "\n",
    "    g\n",
    "***"
   ],
   "metadata": {
    "collapsed": false
   }
  },
  {
   "cell_type": "markdown",
   "source": [
    "### 3.4 Going deeper: Case studies\n",
    "### 3.4.7 DenseNet\n",
    "![pt](https://github.com/karaopea/cnn/blob/master/images/pt/Slide86.PNG?raw=true)\n",
    "\n",
    "    g\n",
    "***"
   ],
   "metadata": {
    "collapsed": false
   }
  },
  {
   "cell_type": "markdown",
   "source": [
    "### 3.4 Going deeper: Case studies\n",
    "### 3.4.7 Sqeeze-and-excitation networks\n",
    "![pt](https://github.com/karaopea/cnn/blob/master/images/pt/Slide87.PNG?raw=true)\n",
    "\n",
    "    g\n",
    "***"
   ],
   "metadata": {
    "collapsed": false
   }
  },
  {
   "cell_type": "markdown",
   "source": [
    "### 3.4 Going deeper: Case studies\n",
    "### 3.4.7 State-of-the-art\n",
    "![pt](https://github.com/karaopea/cnn/blob/master/images/pt/Slide89.PNG?raw=true)\n",
    "\n",
    "    g\n",
    "***"
   ],
   "metadata": {
    "collapsed": false
   }
  },
  {
   "cell_type": "markdown",
   "source": [
    "### 3.4 Going deeper: Case studies\n",
    "### 3.4.7 State-of-the-art\n",
    "![pt](https://github.com/karaopea/cnn/blob/master/images/pt/Slide89.PNG?raw=true)\n",
    "\n",
    "    g\n",
    "***"
   ],
   "metadata": {
    "collapsed": false
   }
  },
  {
   "cell_type": "markdown",
   "source": [
    "### 3.4 Going deeper: Case studies\n",
    "### 3.4.1 LeNet-5\n",
    "![pt](https://github.com/karaopea/cnn/blob/master/images/pt/Slide70.PNG?raw=true)\n",
    "\n",
    "    필기체 문자를 인식하는 네트워크며, 이를위한 MNIST (28x28) 데이터셋이 마련되어있습니다.\n",
    "    CNN 입문할때 많이 실습하는 네트워크라, 실습도 해보신 분들이 많으실 것 같습니다.\n",
    "***"
   ],
   "metadata": {
    "collapsed": false
   }
  },
  {
   "cell_type": "markdown",
   "source": [
    "### 3.4 Going deeper: Case studies\n",
    "### 3.4.2 AlexNet\n",
    "![pt](https://github.com/karaopea/cnn/blob/master/images/pt/Slide71.PNG?raw=true)\n",
    "\n",
    "    g\n",
    "***"
   ],
   "metadata": {
    "collapsed": false
   }
  },
  {
   "cell_type": "markdown",
   "source": [
    "### 3.4 Going deeper: Case studies\n",
    "### 3.4.3 VGGNet\n",
    "![pt](https://github.com/karaopea/cnn/blob/master/images/Lec6-A.pdf_page_17.png?raw=true)\n",
    "\n",
    "    g\n",
    "***"
   ],
   "metadata": {
    "collapsed": false
   }
  },
  {
   "cell_type": "markdown",
   "source": [
    "### 3.4 Going deeper: Case studies\n",
    "### 3.4.3 VGGNet\n",
    "![pt](https://github.com/karaopea/cnn/blob/master/images/pt/Slide75.PNG?raw=true)\n",
    "\n",
    "    g\n",
    "***"
   ],
   "metadata": {
    "collapsed": false
   }
  },
  {
   "cell_type": "markdown",
   "source": [
    "### 3.4 Going deeper: Case studies\n",
    "### 3.4.3 VGGNet\n",
    "![pt](https://github.com/karaopea/cnn/blob/master/images/pt/Slide76.PNG?raw=true)\n",
    "\n",
    "    g\n",
    "***"
   ],
   "metadata": {
    "collapsed": false
   }
  },
  {
   "cell_type": "markdown",
   "source": [
    "### 3.4 Going deeper: Case studies\n",
    "### 3.4.3 VGGNet\n",
    "![pt](https://github.com/karaopea/cnn/blob/master/images/pt/Slide77.PNG?raw=true)\n",
    "\n",
    "    g\n",
    "***"
   ],
   "metadata": {
    "collapsed": false
   }
  },
  {
   "cell_type": "markdown",
   "source": [
    "### 3.4 Going deeper: Case studies\n",
    "### 3.4.4 GoogLeNet\n",
    "![pt](https://github.com/karaopea/cnn/blob/master/images/pt/Slide77.PNG?raw=true)\n",
    "\n",
    "    g\n",
    "***"
   ],
   "metadata": {
    "collapsed": false
   }
  },
  {
   "cell_type": "markdown",
   "source": [
    "### 3.4 Going deeper: Case studies\n",
    "### 3.4.5 Chanllenges of depth\n",
    "![pt](https://github.com/karaopea/cnn/blob/master/images/pt/Slide78.PNG?raw=true)\n",
    "\n",
    "    g\n",
    "***"
   ],
   "metadata": {
    "collapsed": false
   }
  },
  {
   "cell_type": "markdown",
   "source": [
    "### 3.4 Going deeper: Case studies\n",
    "### 3.4.5 GooLeNet: Inception module\n",
    "![pt](https://github.com/karaopea/cnn/blob/master/images/pt/Slide79.PNG?raw=true)\n",
    "\n",
    "    g\n",
    "***"
   ],
   "metadata": {
    "collapsed": false
   }
  },
  {
   "cell_type": "markdown",
   "source": [
    "### 3.4 Going deeper: Case studies\n",
    "### 3.4.5 GooLeNet: batch normalization\n",
    "![pt](https://github.com/karaopea/cnn/blob/master/images/pt/Slide79.PNG?raw=true)\n",
    "\n",
    "    g\n",
    "***"
   ],
   "metadata": {
    "collapsed": false
   }
  },
  {
   "cell_type": "markdown",
   "source": [
    "### 3.4 Going deeper: Case studies\n",
    "### 3.4.5 GooLeNet: batch normalization\n",
    "![pt](https://github.com/karaopea/cnn/blob/master/images/pt/Slide80.PNG?raw=true)\n",
    "\n",
    "    g\n",
    "***"
   ],
   "metadata": {
    "collapsed": false
   }
  },
  {
   "cell_type": "markdown",
   "source": [
    "### 3.4 Going deeper: Case studies\n",
    "### 3.4.5 GooLeNet: batch normalization\n",
    "![pt](https://github.com/karaopea/cnn/blob/master/images/pt/Slide81.PNG?raw=true)\n",
    "\n",
    "    g\n",
    "***"
   ],
   "metadata": {
    "collapsed": false
   }
  },
  {
   "cell_type": "markdown",
   "source": [
    "### 3.4 Going deeper: Case studies\n",
    "### 3.4.6 ResNet\n",
    "![pt](https://github.com/karaopea/cnn/blob/master/images/pt/Slide82.PNG?raw=true)\n",
    "\n",
    "    g\n",
    "***"
   ],
   "metadata": {
    "collapsed": false
   }
  },
  {
   "cell_type": "markdown",
   "source": [
    "### 3.4 Going deeper: Case studies\n",
    "### 3.4.6 ResNet: residual connections\n",
    "![pt](https://github.com/karaopea/cnn/blob/master/images/pt/Slide83.PNG?raw=true)\n",
    "\n",
    "    g\n",
    "***"
   ],
   "metadata": {
    "collapsed": false
   }
  },
  {
   "cell_type": "markdown",
   "source": [
    "### 3.4 Going deeper: Case studies\n",
    "### 3.4.6 ResNet\n",
    "![pt](https://github.com/karaopea/cnn/blob/master/images/pt/Slide84.PNG?raw=true)\n",
    "\n",
    "    g\n",
    "***"
   ],
   "metadata": {
    "collapsed": false
   }
  },
  {
   "cell_type": "markdown",
   "source": [
    "### 3.4 Going deeper: Case studies\n",
    "### 3.4.7 DenseNet\n",
    "![pt](https://github.com/karaopea/cnn/blob/master/images/pt/Slide86.PNG?raw=true)\n",
    "\n",
    "    g\n",
    "***"
   ],
   "metadata": {
    "collapsed": false
   }
  },
  {
   "cell_type": "markdown",
   "source": [
    "### 3.4 Going deeper: Case studies\n",
    "### 3.4.7 Sqeeze-and-excitation networks\n",
    "![pt](https://github.com/karaopea/cnn/blob/master/images/pt/Slide87.PNG?raw=true)\n",
    "\n",
    "    g\n",
    "***"
   ],
   "metadata": {
    "collapsed": false
   }
  },
  {
   "cell_type": "markdown",
   "source": [
    "### 3.4 Going deeper: Case studies\n",
    "### 3.4.7 State-of-the-art\n",
    "![pt](https://github.com/karaopea/cnn/blob/master/images/pt/Slide89.PNG?raw=true)\n",
    "\n",
    "    g\n",
    "***"
   ],
   "metadata": {
    "collapsed": false
   }
  }
 ],
 "metadata": {
  "colab": {
   "collapsed_sections": [],
   "name": "Untitled2.ipynb",
   "provenance": []
  },
  "kernelspec": {
   "display_name": "Python 3",
   "language": "python",
   "name": "python3"
  },
  "language_info": {
   "codemirror_mode": {
    "name": "ipython",
    "version": 3
   },
   "file_extension": ".py",
   "mimetype": "text/x-python",
   "name": "python",
   "nbconvert_exporter": "python",
   "pygments_lexer": "ipython3",
   "version": "3.7.8"
  }
 },
 "nbformat": 4,
 "nbformat_minor": 1
}